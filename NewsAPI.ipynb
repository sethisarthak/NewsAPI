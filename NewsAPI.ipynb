{
 "cells": [
  {
   "cell_type": "code",
   "execution_count": 16,
   "metadata": {},
   "outputs": [],
   "source": [
    "from newsapi import NewsApiClient"
   ]
  },
  {
   "cell_type": "code",
   "execution_count": 17,
   "metadata": {},
   "outputs": [],
   "source": [
    "newsapi = NewsApiClient(api_key='da9c28a65d964c61bbf6955a259b9e12')"
   ]
  },
  {
   "cell_type": "code",
   "execution_count": 18,
   "metadata": {},
   "outputs": [
    {
     "name": "stdout",
     "output_type": "stream",
     "text": [
      "Enter the topic to be searched:donald trump\n",
      "{'status': 'ok', 'totalResults': 695, 'articles': [{'source': {'id': 'cnn', 'name': 'CNN'}, 'author': 'Donna Borak, Katie Lobosco and Kevin Liptak', 'title': 'Trump expected to announce new China tariffs soon', 'description': 'President Donald Trump is expected to announce new tariffs on China after markets close on Monday.', 'url': 'https://www.cnn.com/2018/09/17/politics/us-china-tariff-trade-war/index.html', 'urlToImage': 'https://cdn.cnn.com/cnnnext/dam/assets/180917142857-gfx-chinese-tariffs-trump-administration-super-tease.jpg', 'publishedAt': '2018-09-17T19:59:14Z', 'content': None}, {'source': {'id': 'cnn', 'name': 'CNN'}, 'author': None, 'title': \"Trump: I'm disappointed in Sessions\", 'description': 'In an interview with The Hill, President Donald Trump spoke about Attorney General Jeff Sessions saying, \"I don\\'t have an attorney general.\" He added, \"It\\'s very sad.\"', 'url': 'https://www.cnn.com/videos/politics/2018/09/19/jeff-sessions-donald-trump-disappointed-lead-schneider-vpx.cnn', 'urlToImage': 'https://cdn.cnn.com/cnnnext/dam/assets/171215110109-trump-and-sessions-2-december-15-2017-super-tease.jpg', 'publishedAt': '2018-09-19T21:14:32Z', 'content': \"Chat with us in Facebook Messenger. Find out what's happening in the world as it unfolds.\"}, {'source': {'id': 'cnn', 'name': 'CNN'}, 'author': None, 'title': \"Trump: Kavanaugh accusation 'con game'\", 'description': \"President Donald Trump grows increasingly impatient about Supreme Court nominee Brett Kavanaugh's confirmation as reports of sexual assault cloud the Senate Judiciary Committee's decision.\", 'url': 'https://www.cnn.com/videos/politics/2018/09/25/kavanaugh-speaks-out-trump-schneider-pkg-lead-vpx.cnn', 'urlToImage': 'https://cdn.cnn.com/cnnnext/dam/assets/180917231601-trump-kavanaugh-split-super-tease.jpg', 'publishedAt': '2018-09-25T21:17:17Z', 'content': \"Chat with us in Facebook Messenger. Find out what's happening in the world as it unfolds.\"}, {'source': {'id': 'cnn', 'name': 'CNN'}, 'author': None, 'title': \"Trump at debate: I'm 'smart' for paying no taxes\", 'description': 'Hillary Clinton attacks Donald Trump about not paying taxes in their first presidential debate.', 'url': 'https://www.cnn.com/videos/politics/2016/09/26/clinton-trump-debate-hofstra-no-taxes-smart-sot-ten.cnn', 'urlToImage': 'https://cdn.cnn.com/cnnnext/dam/assets/160926221805-07-clinton-trump-debate-split-0926-super-tease.jpg', 'publishedAt': '2018-10-03T01:39:01Z', 'content': \"Chat with us in Facebook Messenger. Find out what's happening in the world as it unfolds.\"}, {'source': {'id': 'cnn', 'name': 'CNN'}, 'author': None, 'title': 'Toobin: Big win for President Trump', 'description': \"A federal judge has dismissed adult film star Stormy Daniels' defamation lawsuit against President Donald Trump.\", 'url': 'https://www.cnn.com/videos/politics/2018/10/15/stormy-daniels-defamation-lawsuit-dismissed-tsr-vpx.cnn', 'urlToImage': 'https://cdn.cnn.com/cnnnext/dam/assets/180307113630-01-donald-trump-stormy-daniels-split-super-tease.jpg', 'publishedAt': '2018-10-15T23:24:15Z', 'content': \"Chat with us in Facebook Messenger. Find out what's happening in the world as it unfolds.\"}, {'source': {'id': 'cnn', 'name': 'CNN'}, 'author': None, 'title': 'Sanders: Trump was stating facts', 'description': 'White House press secretary Sarah Sanders says President Donald Trump was not mocking Christine Blasey Ford at his rally in Mississippi.', 'url': 'https://www.cnn.com/videos/politics/2018/10/03/trump-stating-facts-not-mocking-ford-sarah-sanders-sot-wolf-vpx.cnn', 'urlToImage': 'https://cdn.cnn.com/cnnnext/dam/assets/181003134238-sarah-sanders-white-house-press-briefing-10032018-super-tease.jpg', 'publishedAt': '2018-10-03T17:56:44Z', 'content': \"Chat with us in Facebook Messenger. Find out what's happening in the world as it unfolds.\"}, {'source': {'id': 'cnn', 'name': 'CNN'}, 'author': None, 'title': 'Reporter: Trump meeting was ridiculous', 'description': 'Olivia Nuzzi, a reporter for New York Magazine, describes her interview with President Donald Trump and other top officials in the White House.', 'url': 'https://www.cnn.com/videos/politics/2018/10/11/olivia-nuzzi-oval-office-intv-trump-new-york-magazine-sot-ctn-vpx.cnn', 'urlToImage': 'https://cdn.cnn.com/cnnnext/dam/assets/181010231718-olivia-nuzzu-ctn-super-tease.jpg', 'publishedAt': '2018-10-11T03:45:02Z', 'content': \"Chat with us in Facebook Messenger. Find out what's happening in the world as it unfolds.\"}, {'source': {'id': 'cnn', 'name': 'CNN'}, 'author': 'Kevin Liptak, CNN', 'title': 'US-China trade talks stall amid tariff standoff', 'description': 'Negotiations between the United States and China have stalled after President Donald Trump ordered new tariffs on Chinese goods.', 'url': 'https://www.cnn.com/2018/09/22/politics/us-china-trade-talks-tariffs/index.html', 'urlToImage': 'https://cdn.cnn.com/cnnnext/dam/assets/180717103755-gfx-trade-war-trump-usa-china-cracked-super-tease.jpg', 'publishedAt': '2018-09-22T16:20:04Z', 'content': '(CNN) Negotiations between the United States and China have stalled after President Donald Trump ordered new tariffs on Chinese goods. Senior US officials, led by Treasury Secretary Steven Mnuchin, have been working to end the trade standoff through diplomacy… [+3411 chars]'}, {'source': {'id': 'cnn', 'name': 'CNN'}, 'author': None, 'title': 'Macron fires back at Trump in UNGA speech', 'description': 'French President Emmanuel Macron delivered a fiery rebuke of US policies under President Donald Trump at the UN General Assembly.', 'url': 'https://www.cnn.com/videos/world/2018/09/26/macron-speech-unga-trump-us-policies-sot-vpx.cnn', 'urlToImage': 'https://cdn.cnn.com/cnnnext/dam/assets/180925143207-emmanuel-macron-unga-09-25-2018-super-tease.jpg', 'publishedAt': '2018-09-26T04:49:54Z', 'content': \"Chat with us in Facebook Messenger. Find out what's happening in the world as it unfolds.\"}, {'source': {'id': 'cnn', 'name': 'CNN'}, 'author': None, 'title': 'Statue of Matilda confronts Trump', 'description': \"A statue of the the classic British children's character Matilda staring down a likeness of President Donald Trump has been erected to celebrate the 30th anniversary of the release of Roald Dahl's 1988 novel.\", 'url': 'https://www.cnn.com/videos/world/2018/10/02/matilda-donald-trump-statue-dahl-sot-es-vpx.cnn', 'urlToImage': 'https://cdn.cnn.com/cnnnext/dam/assets/181001124238-01-matilda-trump-statues-super-tease.jpg', 'publishedAt': '2018-10-02T09:11:35Z', 'content': \"Chat with us in Facebook Messenger. Find out what's happening in the world as it unfolds.\"}, {'source': {'id': 'cnn', 'name': 'CNN'}, 'author': None, 'title': \"Trump calls Kavanaugh 'an extraordinary man'\", 'description': 'President Donald Trump says he believes Judge Brett Kavanaugh is \"an extraordinary man\" and he wants to hear from Kavanaugh\\'s accuser Christine Blasey Ford.', 'url': 'https://www.cnn.com/videos/politics/2018/09/19/trump-comments-on-brett-kavanaugh-accusations-sot-nr-vpx.cnn', 'urlToImage': 'https://cdn.cnn.com/cnnnext/dam/assets/180919093742-01-trump-departure-comments-0919-super-tease.jpg', 'publishedAt': '2018-09-19T14:10:30Z', 'content': \"Chat with us in Facebook Messenger. Find out what's happening in the world as it unfolds.\"}, {'source': {'id': 'cnn', 'name': 'CNN'}, 'author': None, 'title': 'Cuomo: Trump doubled down on dumb', 'description': \"CNN's Chris Cuomo criticizes President Donald Trump for his response to the sexual assault allegations made against his Supreme Court nominee Brett Kavanaugh.\", 'url': 'https://www.cnn.com/videos/politics/2018/09/22/cuomo-closing-argument-collins-on-trump-kavanaugh-sot-cpt-vpx.cnn', 'urlToImage': 'https://cdn.cnn.com/cnnnext/dam/assets/180921221210-chris-cuomo-closing-argument-9-21-18-super-tease.jpg', 'publishedAt': '2018-09-22T03:18:20Z', 'content': \"Chat with us in Facebook Messenger. Find out what's happening in the world as it unfolds.\"}, {'source': {'id': 'cnn', 'name': 'CNN'}, 'author': None, 'title': 'Trump: I prefer to keep Rosenstein', 'description': 'President Donald Trump says that he may delay his meeting with Deputy Attorney General Rod Rosenstein, but his preference is to \"keep him.\"', 'url': 'https://www.cnn.com/videos/politics/2018/09/26/trump-rosenstein-meeting-delayed-sot-tsr-vpx.cnn', 'urlToImage': 'https://cdn.cnn.com/cnnnext/dam/assets/180926172650-03-trump-press-conference-0926-super-tease.jpg', 'publishedAt': '2018-09-26T21:40:47Z', 'content': \"Chat with us in Facebook Messenger. Find out what's happening in the world as it unfolds.\"}, {'source': {'id': 'cnn', 'name': 'CNN'}, 'author': None, 'title': 'Stormy Daniels shares details of alleged affair', 'description': 'Stormy Daniels, the woman who sued President Trump over a hush agreement to keep her silent about their alleged sexual encounter, has written a book about her life which she says will include details of her time with Donald Trump.', 'url': 'https://www.cnn.com/videos/politics/2018/09/18/stormy-daniels-book-donald-trump-sidner-pkg-vpx-lead.cnn', 'urlToImage': 'https://cdn.cnn.com/cnnnext/dam/assets/180120211657-stormy-daniels-controversy-gallagher-dnt-erin-00010012-super-tease.jpg', 'publishedAt': '2018-09-18T21:35:40Z', 'content': \"Chat with us in Facebook Messenger. Find out what's happening in the world as it unfolds.\"}, {'source': {'id': 'cnn', 'name': 'CNN'}, 'author': 'Jeremy Diamond, CNN', 'title': 'Polish President urges US to consider opening base', 'description': 'Polish President Andrzej Duda urged President Donald Trump on Tuesday during a joint news conference to deploy more US troops and military equipment to Poland, even suggesting the US establish a permanent military base and name it \"Fort Trump.\"', 'url': 'https://www.cnn.com/2018/09/18/politics/fort-trump-andrzej-duda-poland/index.html', 'urlToImage': 'https://cdn.cnn.com/cnnnext/dam/assets/180713115347-donald-trump-uk-super-tease.jpg', 'publishedAt': '2018-09-18T19:13:10Z', 'content': 'Washington (CNN) Polish President Andrzej Duda urged President Donald Trump on Tuesday during a joint news conference to deploy more US troops and military equipment to Poland, even suggesting the US establish a permanent military base and name it \"Fort Trump… [+829 chars]'}, {'source': {'id': 'cnn', 'name': 'CNN'}, 'author': None, 'title': 'Don Lemon: Reality smacked Trump in the face', 'description': \"CNN's Don Lemon responds to President Donald Trump's speech at the United Nations General Assembly.\", 'url': 'https://www.cnn.com/videos/politics/2018/09/26/unga-trump-speech-laughter-dons-take-ctn-sot-vpx.cnn', 'urlToImage': 'https://cdn.cnn.com/cnnnext/dam/assets/180925230534-don-lemon-dons-take-92518-1-super-tease.jpg', 'publishedAt': '2018-09-26T03:28:12Z', 'content': \"Chat with us in Facebook Messenger. Find out what's happening in the world as it unfolds.\"}, {'source': {'id': 'cnn', 'name': 'CNN'}, 'author': None, 'title': 'Remember when Trump refused to release his tax returns?', 'description': 'Donald Trump and his administration have said many times that he would release his income tax returns.', 'url': 'https://www.cnn.com/videos/cnnmoney/2018/10/03/president-trump-on-tax-returns-orig-vstan-jm.cnn', 'urlToImage': 'https://cdn.cnn.com/cnnnext/dam/assets/181003162201-trump-and-tax-returns-super-tease.jpg', 'publishedAt': '2018-10-03T20:26:50Z', 'content': \"Chat with us in Facebook Messenger. Find out what's happening in the world as it unfolds.\"}, {'source': {'id': 'cnn', 'name': 'CNN'}, 'author': None, 'title': 'Max Boot: Trump empowered Saudis', 'description': \"Max Boot, a Senior Fellow with the Council on Foreign Relations, says that President Donald Trump's rhetoric against the media may have empowered Saudi Arabia to believe they could go after those who disagree with them.\", 'url': 'https://www.cnn.com/videos/world/2018/10/14/max-boot-trump-saudi-journalist-thought-they-could-get-away-with-it-vpx-sot-gps.cnn', 'urlToImage': 'https://cdn.cnn.com/cnnnext/dam/assets/181014105216-max-boot-october-14-2018-01-super-tease.jpg', 'publishedAt': '2018-10-14T14:58:44Z', 'content': \"Chat with us in Facebook Messenger. Find out what's happening in the world as it unfolds.\"}, {'source': {'id': 'cnn', 'name': 'CNN'}, 'author': 'Eric Bradner, CNN', 'title': 'Trump rallies in Kansas after court win', 'description': 'President Donald Trump is set to rally Republicans in Kansas hours after the Senate confirmed the second justice he has nominated to the Supreme Court, Brett Kavanaugh.', 'url': 'https://www.cnn.com/2018/10/06/politics/trump-kansas-rally/index.html', 'urlToImage': 'https://cdn.cnn.com/cnnnext/dam/assets/181006152145-trump-before-vote-super-tease.jpg', 'publishedAt': '2018-10-06T22:27:49Z', 'content': '(CNN) President Donald Trump is set to rally Republicans in Kansas hours after the Senate confirmed the second justice he has nominated to the Supreme Court, Brett Kavanaugh. Trump is visiting Topeka for a Saturday evening fundraiser and rally for Kris Kobach… [+1641 chars]'}, {'source': {'id': 'cnn', 'name': 'CNN'}, 'author': None, 'title': 'Cuomo: NYT hits Trump where it hurts', 'description': 'CNN\\'s Chris Cuomo discusses a New York Times report that says President Donald Trump helped \"his parents dodge taxes,\" including what the paper calls \"instances of outright fraud.\"', 'url': 'https://www.cnn.com/videos/politics/2018/10/03/cuomo-closing-argument-trump-taxes-nyt-sot-cpt-vpx.cnn', 'urlToImage': 'https://cdn.cnn.com/cnnnext/dam/assets/181002214657-chris-cuomo-super-tease.jpg', 'publishedAt': '2018-10-03T02:33:40Z', 'content': \"Chat with us in Facebook Messenger. Find out what's happening in the world as it unfolds.\"}]}\n"
     ]
    }
   ],
   "source": [
    "query=input(\"Enter the topic to be searched:\")\n",
    "all_articles = newsapi.get_everything(q=query,\n",
    "                                      sources='cnn',\n",
    "                                      domains='cnn.com',\n",
    "                                      language='en',\n",
    "                                      sort_by='relevancy')\n",
    "print(all_articles)"
   ]
  },
  {
   "cell_type": "code",
   "execution_count": 19,
   "metadata": {
    "scrolled": true
   },
   "outputs": [
    {
     "name": "stdout",
     "output_type": "stream",
     "text": [
      "Trump expected to announce new China tariffs soon\n",
      "TITLE:\n",
      "Trump expected to announce new China tariffs soon\n",
      "DESCRIPTION:\n",
      "President Donald Trump is expected to announce new tariffs on China after markets close on Monday.\n",
      "====================================================================================================================\n",
      "TITLE:\n",
      "Trump: I'm disappointed in Sessions\n",
      "DESCRIPTION:\n",
      "In an interview with The Hill, President Donald Trump spoke about Attorney General Jeff Sessions saying, \"I don't have an attorney general.\" He added, \"It's very sad.\"\n",
      "====================================================================================================================\n",
      "TITLE:\n",
      "Trump: Kavanaugh accusation 'con game'\n",
      "DESCRIPTION:\n",
      "President Donald Trump grows increasingly impatient about Supreme Court nominee Brett Kavanaugh's confirmation as reports of sexual assault cloud the Senate Judiciary Committee's decision.\n",
      "====================================================================================================================\n",
      "TITLE:\n",
      "Trump at debate: I'm 'smart' for paying no taxes\n",
      "DESCRIPTION:\n",
      "Hillary Clinton attacks Donald Trump about not paying taxes in their first presidential debate.\n",
      "====================================================================================================================\n",
      "TITLE:\n",
      "Toobin: Big win for President Trump\n",
      "DESCRIPTION:\n",
      "A federal judge has dismissed adult film star Stormy Daniels' defamation lawsuit against President Donald Trump.\n",
      "====================================================================================================================\n",
      "TITLE:\n",
      "Sanders: Trump was stating facts\n",
      "DESCRIPTION:\n",
      "White House press secretary Sarah Sanders says President Donald Trump was not mocking Christine Blasey Ford at his rally in Mississippi.\n",
      "====================================================================================================================\n",
      "TITLE:\n",
      "Reporter: Trump meeting was ridiculous\n",
      "DESCRIPTION:\n",
      "Olivia Nuzzi, a reporter for New York Magazine, describes her interview with President Donald Trump and other top officials in the White House.\n",
      "====================================================================================================================\n",
      "TITLE:\n",
      "US-China trade talks stall amid tariff standoff\n",
      "DESCRIPTION:\n",
      "Negotiations between the United States and China have stalled after President Donald Trump ordered new tariffs on Chinese goods.\n",
      "====================================================================================================================\n",
      "TITLE:\n",
      "Macron fires back at Trump in UNGA speech\n",
      "DESCRIPTION:\n",
      "French President Emmanuel Macron delivered a fiery rebuke of US policies under President Donald Trump at the UN General Assembly.\n",
      "====================================================================================================================\n",
      "TITLE:\n",
      "Statue of Matilda confronts Trump\n",
      "DESCRIPTION:\n",
      "A statue of the the classic British children's character Matilda staring down a likeness of President Donald Trump has been erected to celebrate the 30th anniversary of the release of Roald Dahl's 1988 novel.\n",
      "====================================================================================================================\n",
      "TITLE:\n",
      "Trump calls Kavanaugh 'an extraordinary man'\n",
      "DESCRIPTION:\n",
      "President Donald Trump says he believes Judge Brett Kavanaugh is \"an extraordinary man\" and he wants to hear from Kavanaugh's accuser Christine Blasey Ford.\n",
      "====================================================================================================================\n",
      "TITLE:\n",
      "Cuomo: Trump doubled down on dumb\n",
      "DESCRIPTION:\n",
      "CNN's Chris Cuomo criticizes President Donald Trump for his response to the sexual assault allegations made against his Supreme Court nominee Brett Kavanaugh.\n",
      "====================================================================================================================\n",
      "TITLE:\n",
      "Trump: I prefer to keep Rosenstein\n",
      "DESCRIPTION:\n",
      "President Donald Trump says that he may delay his meeting with Deputy Attorney General Rod Rosenstein, but his preference is to \"keep him.\"\n",
      "====================================================================================================================\n",
      "TITLE:\n",
      "Stormy Daniels shares details of alleged affair\n",
      "DESCRIPTION:\n",
      "Stormy Daniels, the woman who sued President Trump over a hush agreement to keep her silent about their alleged sexual encounter, has written a book about her life which she says will include details of her time with Donald Trump.\n",
      "====================================================================================================================\n",
      "TITLE:\n",
      "Polish President urges US to consider opening base\n",
      "DESCRIPTION:\n",
      "Polish President Andrzej Duda urged President Donald Trump on Tuesday during a joint news conference to deploy more US troops and military equipment to Poland, even suggesting the US establish a permanent military base and name it \"Fort Trump.\"\n",
      "====================================================================================================================\n",
      "TITLE:\n",
      "Don Lemon: Reality smacked Trump in the face\n",
      "DESCRIPTION:\n",
      "CNN's Don Lemon responds to President Donald Trump's speech at the United Nations General Assembly.\n",
      "====================================================================================================================\n",
      "TITLE:\n",
      "Remember when Trump refused to release his tax returns?\n",
      "DESCRIPTION:\n",
      "Donald Trump and his administration have said many times that he would release his income tax returns.\n",
      "====================================================================================================================\n",
      "TITLE:\n",
      "Max Boot: Trump empowered Saudis\n",
      "DESCRIPTION:\n",
      "Max Boot, a Senior Fellow with the Council on Foreign Relations, says that President Donald Trump's rhetoric against the media may have empowered Saudi Arabia to believe they could go after those who disagree with them.\n",
      "====================================================================================================================\n",
      "TITLE:\n",
      "Trump rallies in Kansas after court win\n",
      "DESCRIPTION:\n",
      "President Donald Trump is set to rally Republicans in Kansas hours after the Senate confirmed the second justice he has nominated to the Supreme Court, Brett Kavanaugh.\n",
      "====================================================================================================================\n",
      "TITLE:\n",
      "Cuomo: NYT hits Trump where it hurts\n",
      "DESCRIPTION:\n",
      "CNN's Chris Cuomo discusses a New York Times report that says President Donald Trump helped \"his parents dodge taxes,\" including what the paper calls \"instances of outright fraud.\"\n",
      "====================================================================================================================\n",
      "[0.018181818181818174, -0.18333333333333335, 0.15, 0.25, 0.1, 0.0, 0.1278409090909091, 0.06818181818181818, 0.02500000000000001, 0.0037037037037036904, 0.26666666666666666, 0.5, 0.05000000000000002, 0.13333333333333333, -0.125, 0.05000000000000002, 0.5, -0.125, 0.2, 0.13636363636363635]\n"
     ]
    }
   ],
   "source": [
    "import re\n",
    "import tweepy\n",
    "from tweepy import OAuthHandler\n",
    "from textblob import TextBlob\n",
    "print(all_articles[\"articles\"][0][\"title\"])\n",
    "k=all_articles[\"totalResults\"]\n",
    "polarity=[]\n",
    "\n",
    "for i in range(0,20):\n",
    "    print(\"TITLE:\")\n",
    "    print(all_articles[\"articles\"][i][\"title\"])\n",
    "    print(\"DESCRIPTION:\")\n",
    "    print(all_articles[\"articles\"][i][\"description\"])\n",
    "    print('====================================================================================================================')\n",
    "    var = TextBlob(all_articles[\"articles\"][i][\"description\"])\n",
    "    polarity.append(var.sentiment.polarity)\n",
    "print(polarity)\n"
   ]
  },
  {
   "cell_type": "code",
   "execution_count": 20,
   "metadata": {},
   "outputs": [
    {
     "name": "stdout",
     "output_type": "stream",
     "text": [
      "postive percentage 80.0\n",
      "negative percentage 15.0\n",
      "neutral percentage 5.0\n",
      "President Donald Trump is expected to announce new tariffs on China after markets close on Monday.\n",
      "President Donald Trump grows increasingly impatient about Supreme Court nominee Brett Kavanaugh's confirmation as reports of sexual assault cloud the Senate Judiciary Committee's decision.\n",
      "Hillary Clinton attacks Donald Trump about not paying taxes in their first presidential debate.\n",
      "A federal judge has dismissed adult film star Stormy Daniels' defamation lawsuit against President Donald Trump.\n",
      "Olivia Nuzzi, a reporter for New York Magazine, describes her interview with President Donald Trump and other top officials in the White House.\n",
      "Negotiations between the United States and China have stalled after President Donald Trump ordered new tariffs on Chinese goods.\n",
      "French President Emmanuel Macron delivered a fiery rebuke of US policies under President Donald Trump at the UN General Assembly.\n",
      "A statue of the the classic British children's character Matilda staring down a likeness of President Donald Trump has been erected to celebrate the 30th anniversary of the release of Roald Dahl's 1988 novel.\n",
      "President Donald Trump says he believes Judge Brett Kavanaugh is \"an extraordinary man\" and he wants to hear from Kavanaugh's accuser Christine Blasey Ford.\n",
      "CNN's Chris Cuomo criticizes President Donald Trump for his response to the sexual assault allegations made against his Supreme Court nominee Brett Kavanaugh.\n",
      "President Donald Trump says that he may delay his meeting with Deputy Attorney General Rod Rosenstein, but his preference is to \"keep him.\"\n",
      "Stormy Daniels, the woman who sued President Trump over a hush agreement to keep her silent about their alleged sexual encounter, has written a book about her life which she says will include details of her time with Donald Trump.\n",
      "President Donald Trump says that he may delay his meeting with Deputy Attorney General Rod Rosenstein, but his preference is to \"keep him.\"\n",
      "CNN's Chris Cuomo criticizes President Donald Trump for his response to the sexual assault allegations made against his Supreme Court nominee Brett Kavanaugh.\n",
      "President Donald Trump is set to rally Republicans in Kansas hours after the Senate confirmed the second justice he has nominated to the Supreme Court, Brett Kavanaugh.\n",
      "CNN's Chris Cuomo discusses a New York Times report that says President Donald Trump helped \"his parents dodge taxes,\" including what the paper calls \"instances of outright fraud.\"\n",
      "========================================================================================================================\n",
      "In an interview with The Hill, President Donald Trump spoke about Attorney General Jeff Sessions saying, \"I don't have an attorney general.\" He added, \"It's very sad.\"\n",
      "Polish President Andrzej Duda urged President Donald Trump on Tuesday during a joint news conference to deploy more US troops and military equipment to Poland, even suggesting the US establish a permanent military base and name it \"Fort Trump.\"\n",
      "Polish President Andrzej Duda urged President Donald Trump on Tuesday during a joint news conference to deploy more US troops and military equipment to Poland, even suggesting the US establish a permanent military base and name it \"Fort Trump.\"\n",
      "========================================================================================================================\n",
      "White House press secretary Sarah Sanders says President Donald Trump was not mocking Christine Blasey Ford at his rally in Mississippi.\n"
     ]
    }
   ],
   "source": [
    "\n",
    "count_polarityp=0\n",
    "count_polarityn=0\n",
    "count_polaritye=0\n",
    "positive=[]\n",
    "negative=[]\n",
    "neutral=[]\n",
    "for i in polarity:\n",
    "    if i>0:\n",
    "        count_polarityp=count_polarityp+1\n",
    "        positive.append(str(all_articles[\"articles\"][polarity.index(i)][\"description\"]))\n",
    "        \n",
    "    if i<0:\n",
    "        count_polarityn=count_polarityn+1\n",
    "        negative.append(str(all_articles[\"articles\"][polarity.index(i)][\"description\"]))\n",
    "    if i == 0:\n",
    "        count_polaritye=count_polaritye+1\n",
    "        neutral.append(str(all_articles[\"articles\"][polarity.index(i)][\"description\"]))\n",
    "print ('postive percentage',count_polarityp*100/len(polarity))\n",
    "print ('negative percentage',count_polarityn*100/len(polarity))\n",
    "print ('neutral percentage',count_polaritye*100/len(polarity))\n",
    "for i in positive:\n",
    "    print(i)\n",
    "print('========================================================================================================================')\n",
    "for i in negative:\n",
    "    print(i)\n",
    "print('========================================================================================================================')\n",
    "for i in neutral:\n",
    "    print(i)"
   ]
  },
  {
   "cell_type": "code",
   "execution_count": null,
   "metadata": {},
   "outputs": [],
   "source": []
  },
  {
   "cell_type": "code",
   "execution_count": null,
   "metadata": {},
   "outputs": [],
   "source": []
  }
 ],
 "metadata": {
  "kernelspec": {
   "display_name": "Python 3",
   "language": "python",
   "name": "python3"
  },
  "language_info": {
   "codemirror_mode": {
    "name": "ipython",
    "version": 3
   },
   "file_extension": ".py",
   "mimetype": "text/x-python",
   "name": "python",
   "nbconvert_exporter": "python",
   "pygments_lexer": "ipython3",
   "version": "3.6.5"
  }
 },
 "nbformat": 4,
 "nbformat_minor": 2
}
